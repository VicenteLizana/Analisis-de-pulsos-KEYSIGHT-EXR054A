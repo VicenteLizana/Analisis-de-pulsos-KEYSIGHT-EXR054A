{
 "cells": [
  {
   "cell_type": "markdown",
   "metadata": {},
   "source": [
    "## Importamos librerias de python y CSV\n",
    "\n",
    "Se utilizará pandas para la manipulación de CSV, numpy para funciones matematicas, plotly para visualizar la información y math para pequeñas funciones\n"
   ]
  },
  {
   "cell_type": "code",
   "execution_count": 1,
   "metadata": {},
   "outputs": [],
   "source": [
    "import pandas as pd\n",
    "import numpy as np\n",
    "import plotly.express as px\n",
    "import plotly.graph_objects as go\n",
    "import math\n",
    "ruta_archivo = 'C:/Users/Vicente/Desktop/Datos osciloscopio/prueba prototype 2/socket 1/12 cm/12 cm.csv'\n",
    "datos = pd.read_csv(ruta_archivo)\n",
    "#2 columnas por evento y una cantidad de filas equivalente a los puntos por evento"
   ]
  },
  {
   "cell_type": "markdown",
   "metadata": {},
   "source": [
    "## Graficamos pulsos individualmente\n",
    "\n",
    "Esto se hace con el objetivo de identificar pulsos y empezar a corregir baseline y orientación de pulsos."
   ]
  },
  {
   "cell_type": "code",
   "execution_count": null,
   "metadata": {},
   "outputs": [],
   "source": [
    "#Visualización de pulsos individuales\n",
    "Pulse = 6246\n",
    "#graficamos el pulso sin corregir\n",
    "fig = px.scatter(datos, title = \"PULSE\", x=datos.iloc[:,2*Pulse], y=datos.iloc[:,2*Pulse+1])\n",
    "fig.show()\n",
    "datos_positivos = datos.iloc[:,2*Pulse+1].apply(lambda x : x*-1)\n",
    "#identificamos el baseline y lo corregimos\n",
    "mean_baseline = datos_positivos[:1000].mean()\n",
    "datos_corregidos = datos_positivos.apply(lambda x : x-mean_baseline)\n",
    "#Integramos con el metodo trapezoid de numpy\n",
    "integral = np.trapezoid(datos_corregidos,datos.iloc[:,2*Pulse])\n",
    "#Graficamos el pulso corregido\n",
    "fig = px.scatter(datos, title = \"CORRECTED PULSE\", x=datos.iloc[:,2*Pulse], y=datos_corregidos)\n",
    "fig.show()\n",
    "integral"
   ]
  },
  {
   "cell_type": "markdown",
   "metadata": {},
   "source": [
    "## Superponer todos los pulsos\n",
    "\n",
    "Se realiza un submuestreo para graficar totos los pulsos superpuestos, esto otorgará una idea de dónde inicican los pulsos y de donde parte el baseline"
   ]
  },
  {
   "cell_type": "code",
   "execution_count": null,
   "metadata": {},
   "outputs": [],
   "source": [
    "# Parámetros\n",
    "cantidad_de_pulsos = 6249\n",
    "puntos_originales = 15998  # Número original de puntos en cada pulso\n",
    "factor_submuestreo = 10  # Factor por el cual se reducirán los datos\n",
    "\n",
    "# Inicializa la figura\n",
    "fig = go.Figure()\n",
    "\n",
    "# Submuestreo dinámico\n",
    "for i in range(cantidad_de_pulsos):\n",
    "    Pulse = i\n",
    "    y_original = datos.iloc[:, 2*Pulse+1].values  \n",
    "    # Extrae los datos del pulso original\n",
    "    # Submuestreo: asegura que todos los pulsos tienen la misma cantidad de puntos submuestreados\n",
    "    y_values_reducidos = y_original[:puntos_originales - (puntos_originales % factor_submuestreo):factor_submuestreo]\n",
    "    x_values = np.arange(len(y_values_reducidos))\n",
    "    \n",
    "    # Agrega los datos al gráfico\n",
    "    fig.add_trace(go.Scattergl(\n",
    "        x=x_values,\n",
    "        y=y_values_reducidos,\n",
    "        mode='lines',\n",
    "        line=dict(color='rgba(0, 0, 255, 0.001)'),\n",
    "        name=f'Pulse {Pulse + 1}'\n",
    "    ))\n",
    "\n",
    "# Actualiza el layout del gráfico\n",
    "fig.update_layout(\n",
    "    title='Pulsos superpuestos (submuestreados)',\n",
    "    xaxis_title='Eje X',\n",
    "    yaxis_title='Eje Y',\n",
    "    showlegend=False  # Desactiva la leyenda para mejorar la claridad\n",
    ")\n",
    "\n",
    "# Muestra la figura\n",
    "fig.show()\n",
    "\n"
   ]
  },
  {
   "cell_type": "markdown",
   "metadata": {},
   "source": [
    "## Histograma de cargas\n",
    "\n",
    "Se realiza un histograma de las cargas que cada pulso posee y se presentan en forma de histograma. Tambien se separan lso pulsos que tengan un baseline muy disperso y se imprime el promedio y la desviación estandar de los pulsos"
   ]
  },
  {
   "cell_type": "code",
   "execution_count": null,
   "metadata": {},
   "outputs": [],
   "source": [
    "#integrales\n",
    "Cantidad_de_pulsos = 6249\n",
    "lista_integrales = []\n",
    "lista_integrales_negativas = []\n",
    "\n",
    "\n",
    "for i in range(Cantidad_de_pulsos):\n",
    "    Pulse = i\n",
    "    datos_positivos = datos.iloc[:,2*Pulse+1].apply(lambda x : x*-1)\n",
    "    #identificamos el baseline\n",
    "    mean_baseline = datos_positivos[:1000].mean()\n",
    "    datos_corregidos = datos_positivos.apply(lambda x : x-mean_baseline)\n",
    "    #Integramos con el metodo trapezoid de numpy\n",
    "    integral = np.trapezoid(datos_corregidos[1500:],datos.iloc[1500:,2*Pulse])\n",
    "    integral = integral/50 *10**12\n",
    "    if integral >= 0:\n",
    "        lista_integrales.append(integral)\n",
    "    if integral < 0:\n",
    "        lista_integrales_negativas.append(Pulse)\n",
    "\n",
    "\n",
    "def crear_histograma(datos, titulo='Histograma', nbins=10):\n",
    "\n",
    "    fig = px.histogram(datos, nbins=nbins, title=titulo)\n",
    "    fig.update_layout(xaxis_title='Carga en picoCoulomb', yaxis_title='Frecuencia')\n",
    "    fig.show()\n",
    "    \n",
    "\n",
    "mean_integral = np.mean(lista_integrales)\n",
    "std_integral = np.std(lista_integrales)\n",
    "crear_histograma(lista_integrales, titulo='Distribución de carga', nbins=2*math.trunc(math.sqrt(Cantidad_de_pulsos)))\n",
    "print(\"El promedio de esta distribución de carga es:\", mean_integral)\n",
    "print(\"La desviación estandar es:\",std_integral)"
   ]
  },
  {
   "cell_type": "code",
   "execution_count": null,
   "metadata": {},
   "outputs": [],
   "source": [
    "puntos_originales = 15998  # Número original de puntos en cada pulso\n",
    "factor_submuestreo = 10  # Factor por el cual se reducirán los datos\n",
    "\n",
    "# Inicializa la figura\n",
    "fig = go.Figure()\n",
    "\n",
    "# Submuestreo dinámico\n",
    "for i in lista_integrales_negativas:\n",
    "    Pulse = i\n",
    "    y_original = datos.iloc[:, 2*Pulse+1].values  # Extrae los datos del pulso original\n",
    "    \n",
    "    # Submuestreo: asegura que todos los pulsos tienen la misma cantidad de puntos submuestreados\n",
    "    y_values_reducidos = y_original[:puntos_originales - (puntos_originales % factor_submuestreo):factor_submuestreo]\n",
    "    x_values = np.arange(len(y_values_reducidos))\n",
    "    \n",
    "    # Agrega los datos al gráfico\n",
    "    fig.add_trace(go.Scattergl(\n",
    "        x=x_values,\n",
    "        y=y_values_reducidos,\n",
    "        mode='lines',\n",
    "        line=dict(color='rgba(0, 0, 255, 0.1)'),\n",
    "        name=f'Pulse {Pulse + 1}'\n",
    "    ))\n",
    "\n",
    "# Actualiza el layout del gráfico\n",
    "fig.update_layout(\n",
    "    title='Pulsos descartados superpuestos',\n",
    "    xaxis_title='Tiempo(Puntos)',\n",
    "    yaxis_title='Voltaje',\n",
    "    showlegend=False  # Desactiva la leyenda para mejorar la claridad\n",
    ")\n",
    "\n",
    "# Muestra la figura\n",
    "fig.show()\n"
   ]
  }
 ],
 "metadata": {
  "kernelspec": {
   "display_name": "Python 3",
   "language": "python",
   "name": "python3"
  },
  "language_info": {
   "codemirror_mode": {
    "name": "ipython",
    "version": 3
   },
   "file_extension": ".py",
   "mimetype": "text/x-python",
   "name": "python",
   "nbconvert_exporter": "python",
   "pygments_lexer": "ipython3",
   "version": "3.12.5"
  }
 },
 "nbformat": 4,
 "nbformat_minor": 2
}
